{
 "cells": [
  {
   "cell_type": "code",
   "execution_count": 45,
   "metadata": {},
   "outputs": [],
   "source": [
    "import pulp"
   ]
  },
  {
   "cell_type": "markdown",
   "metadata": {},
   "source": [
    "## **Criando o modelo**"
   ]
  },
  {
   "cell_type": "code",
   "execution_count": 46,
   "metadata": {},
   "outputs": [],
   "source": [
    "#Criando modelo de otimização\n",
    "\n",
    "model = pulp.LpProblem('Goal_Programming', pulp.LpMinimize)"
   ]
  },
  {
   "cell_type": "markdown",
   "metadata": {},
   "source": [
    "## **Definindo Variáveis de decisão**"
   ]
  },
  {
   "cell_type": "code",
   "execution_count": 47,
   "metadata": {},
   "outputs": [],
   "source": [
    "#Variáveis de decisão\n",
    "\n",
    "x1 = pulp.LpVariable(\"Exploracao_Mineral\", lowBound=0, upBound=120)\n",
    "x2 = pulp.LpVariable(\"Processamento_Mineral\", lowBound=0, upBound=80)\n",
    "x3 = pulp.LpVariable(\"Energia_e_Vapor\", lowBound=0, upBound=60)\n",
    "x4 = pulp.LpVariable(\"Manutencao_de_Equipamentos\", lowBound=0, upBound=25)\n",
    "x5 = pulp.LpVariable(\"Transporte_de_Carvao\", lowBound=0, upBound=35)\n",
    "x6 = pulp.LpVariable(\"Servicos_de_Suporte\", lowBound=0, upBound=15)\n",
    "x7 = pulp.LpVariable(\"Residuos_e_Tratamento\", lowBound=0, upBound=10)\n",
    "x8 = pulp.LpVariable(\"Outros Serviços\", lowBound=0, upBound=5)"
   ]
  },
  {
   "cell_type": "markdown",
   "metadata": {},
   "source": [
    "## **Definindo variáveis de desvio**"
   ]
  },
  {
   "cell_type": "code",
   "execution_count": 48,
   "metadata": {},
   "outputs": [],
   "source": [
    "#Variáveis de desvio para cada meta\n",
    "\n",
    "d1_neg = pulp.LpVariable(\"Desvio_GEE_negativo\", lowBound=0)\n",
    "d2_neg = pulp.LpVariable(\"Desvio_Residuos_negativo\", lowBound=0)\n",
    "d3_neg = pulp.LpVariable(\"Desvio_Carvao_negativo\", lowBound=0)\n",
    "d5_pos = pulp.LpVariable(\"Desvio_Producao_Positivo\", lowBound=0)"
   ]
  },
  {
   "cell_type": "markdown",
   "metadata": {},
   "source": [
    "## **Função ótima: Minimização dos desvios**"
   ]
  },
  {
   "cell_type": "code",
   "execution_count": 49,
   "metadata": {},
   "outputs": [],
   "source": [
    "#Função Objetivo\n",
    "#Minização dos desvios\n",
    "\n",
    "model += (\n",
    "    d1_neg * 0.25  # Peso da meta de GEE\n",
    "    + d2_neg * 0.25  # Peso da meta de Resíduos\n",
    "    + d3_neg * 0.25  # Peso da meta de Carvão\n",
    "    + d5_pos * 0.25  # Peso da meta de Produção\n",
    "), \"Minimize_Deviation\""
   ]
  },
  {
   "cell_type": "markdown",
   "metadata": {},
   "source": [
    "## **Metas**"
   ]
  },
  {
   "cell_type": "code",
   "execution_count": 50,
   "metadata": {},
   "outputs": [],
   "source": [
    "#Restrições do modelo\n",
    "\n",
    "# Meta 1: Emissões de GEE <= 87.200 toneladas\n",
    "model += 50_000 * x1 + 20_000 * x2 + 15_000 * x3 + 5_000 * x4 + 8_000 * x5 + 3_000 * x6 + 7_000 * x7 + 1_000 * x8 + d1_neg == 87_200, \"Meta_GEE\"\n",
    "\n",
    "# Meta 2: Resíduos <= 195.500 toneladas\n",
    "model += 100_000 * x1 + 50_000 * x2 + 20_000 * x3 + 8_000 * x4 + 15_000 * x5 + 5_000 * x6 + 30_000 * x7 + 2_000 * x8+ d2_neg == 195_500, \"Meta_Residuos\"\n",
    "\n",
    "# Meta 3: Consumo de carvão <= 11.250 toneladas\n",
    "model += 8_000 * x1 + 3_000 * x2 + 2_000 * x3 + 500 * x4 + 1_200 * x5 + 300 * x6 + d3_neg == 11_250, \"Meta_Carvao\"\n",
    "\n",
    "# Meta 4: Produção total >= 297 milhões USD\n",
    "model += (\n",
    "    100 * x1 - d5_pos == 110\n",
    "), \"Meta_Producao_Total\"\n"
   ]
  },
  {
   "cell_type": "code",
   "execution_count": 51,
   "metadata": {},
   "outputs": [
    {
     "data": {
      "text/plain": [
       "1"
      ]
     },
     "execution_count": 51,
     "metadata": {},
     "output_type": "execute_result"
    }
   ],
   "source": [
    "#Resolução do modelo\n",
    "model.solve()"
   ]
  },
  {
   "cell_type": "markdown",
   "metadata": {},
   "source": [
    "## **Resultados**"
   ]
  },
  {
   "cell_type": "code",
   "execution_count": 52,
   "metadata": {},
   "outputs": [
    {
     "name": "stdout",
     "output_type": "stream",
     "text": [
      "Resultados:\n",
      "Status: Optimal\n",
      "Desvio_Carvao_negativo = 0.0\n",
      "Desvio_GEE_negativo = 0.0\n",
      "Desvio_Producao_Positivo = 0.0\n",
      "Desvio_Residuos_negativo = 0.0\n",
      "Energia_e_Vapor = 0.0\n",
      "Exploracao_Mineral = 1.1\n",
      "Manutencao_de_Equipamentos = 0.0\n",
      "Outros_Serviços = 5.0\n",
      "Processamento_Mineral = 0.53888889\n",
      "Residuos_e_Tratamento = 1.1555556\n",
      "Servicos_de_Suporte = 2.7777778\n",
      "Transporte_de_Carvao = 0.0\n",
      "Valor da Função Objetivo: 0.0\n"
     ]
    }
   ],
   "source": [
    "#Resultados\n",
    "print('Resultados:')\n",
    "print(\"Status:\", pulp.LpStatus[model.status])\n",
    "\n",
    "# Exibir valores das variáveis\n",
    "for variable in model.variables():\n",
    "    print(f\"{variable.name} = {variable.varValue}\")\n",
    "\n",
    "# Exibir valor da função objetivo\n",
    "print(\"Valor da Função Objetivo:\", pulp.value(model.objective))"
   ]
  }
 ],
 "metadata": {
  "kernelspec": {
   "display_name": "Python 3",
   "language": "python",
   "name": "python3"
  },
  "language_info": {
   "codemirror_mode": {
    "name": "ipython",
    "version": 3
   },
   "file_extension": ".py",
   "mimetype": "text/x-python",
   "name": "python",
   "nbconvert_exporter": "python",
   "pygments_lexer": "ipython3",
   "version": "3.11.9"
  }
 },
 "nbformat": 4,
 "nbformat_minor": 2
}
